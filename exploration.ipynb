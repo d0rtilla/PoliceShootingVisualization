{
 "cells": [
  {
   "cell_type": "markdown",
   "id": "0c56c822",
   "metadata": {},
   "source": [
    "# Police Shooting Deaths in the United States from Jan 2015 - Sep 2022\n",
    "\n",
    "## Group 6: Jacob Douthett, Sam Espe, Alan Jallah, Jae Neuharth\n",
    "\n",
    "### Cleaning the Data"
   ]
  },
  {
   "cell_type": "code",
   "execution_count": null,
   "id": "1a3dc464",
   "metadata": {},
   "outputs": [],
   "source": [
    "# Import dependencies\n",
    "\n",
    "import requests\n",
    "import pandas as pd\n",
    "import pymongo"
   ]
  },
  {
   "cell_type": "code",
   "execution_count": null,
   "id": "e036f03a",
   "metadata": {},
   "outputs": [],
   "source": [
    "# Connect with MongoDB\n",
    "\n",
    "conn = \"mongodb://localhost:27017\"\n",
    "client = pymongo.MongoClient(conn)"
   ]
  },
  {
   "cell_type": "code",
   "execution_count": null,
   "id": "d7f05351",
   "metadata": {},
   "outputs": [],
   "source": [
    "# Create the database\n",
    "\n",
    "db = client.USPoliceShootingData"
   ]
  },
  {
   "cell_type": "code",
   "execution_count": null,
   "id": "ed8a2bcd",
   "metadata": {},
   "outputs": [],
   "source": [
    "# Create the collection within the database\n",
    "\n",
    "collection = db.PoliceShootingData"
   ]
  },
  {
   "cell_type": "code",
   "execution_count": null,
   "id": "a4acb577",
   "metadata": {},
   "outputs": [],
   "source": [
    "# Create a path to the CSV of raw data\n",
    "\n",
    "datapath = 'data/USPoliceShootings15-22.csv'"
   ]
  },
  {
   "cell_type": "code",
   "execution_count": null,
   "id": "ff2d8b94",
   "metadata": {},
   "outputs": [],
   "source": [
    "# Read CSV of raw data into a dataframe\n",
    "\n",
    "shooting_data = pd.read_csv(datapath)\n",
    "shooting_data"
   ]
  },
  {
   "cell_type": "code",
   "execution_count": null,
   "id": "4fd32648",
   "metadata": {},
   "outputs": [],
   "source": [
    "# Remove unwanted columns from the dataframe\n",
    "\n",
    "cleaneddata = shooting_data.drop(['signs_of_mental_illness', 'threat_level', 'manner_of_death', 'id'], axis=1)\n",
    "cleaneddata.head()"
   ]
  },
  {
   "cell_type": "code",
   "execution_count": null,
   "id": "43a2a190",
   "metadata": {},
   "outputs": [],
   "source": [
    "# Remove any entries with NaN values from the dataframe\n",
    "\n",
    "nulldropped = cleaneddata.dropna()\n",
    "nulldropped"
   ]
  },
  {
   "cell_type": "code",
   "execution_count": null,
   "id": "5064bb01",
   "metadata": {},
   "outputs": [],
   "source": [
    "# Mask values to make the data easier to work with\n",
    "\n",
    "nulldropped = nulldropped.rename({'gender':'sex'}, axis=1) \n",
    "nulldropped = nulldropped.rename({'race':'ethnicity'}, axis=1)\n",
    "nulldropped = nulldropped.replace('M', 'Male')\n",
    "nulldropped = nulldropped.replace('F', 'Female')\n",
    "nulldropped = nulldropped.replace('W', 'White')\n",
    "nulldropped = nulldropped.replace('B', 'Black')\n",
    "nulldropped = nulldropped.replace('H', 'Hispanic')\n",
    "nulldropped = nulldropped.replace('A', 'Asian')\n",
    "nulldropped = nulldropped.replace('N', 'Native American')\n",
    "nulldropped = nulldropped.replace('O', 'Other')\n",
    "\n",
    "nulldropped"
   ]
  },
  {
   "cell_type": "code",
   "execution_count": null,
   "id": "0bf5f894",
   "metadata": {},
   "outputs": [],
   "source": [
    "nulldropped = nulldropped.reset_index(drop = True)\n",
    "\n",
    "nulldropped"
   ]
  },
  {
   "cell_type": "code",
   "execution_count": null,
   "id": "e0322ba5",
   "metadata": {},
   "outputs": [],
   "source": [
    "# Drop an entry with incorrect coordinates\n",
    "\n",
    "nulldropped = nulldropped.drop(index = 4107)"
   ]
  },
  {
   "cell_type": "code",
   "execution_count": null,
   "id": "1650586a",
   "metadata": {},
   "outputs": [],
   "source": [
    "# Insert clean, complete data into MongoDB\n",
    "\n",
    "collection.insert_many(nulldropped.to_dict('records'))"
   ]
  },
  {
   "cell_type": "code",
   "execution_count": null,
   "id": "440b8939",
   "metadata": {},
   "outputs": [],
   "source": []
  }
 ],
 "metadata": {
  "kernelspec": {
   "display_name": "Python 3 (ipykernel)",
   "language": "python",
   "name": "python3"
  },
  "language_info": {
   "codemirror_mode": {
    "name": "ipython",
    "version": 3
   },
   "file_extension": ".py",
   "mimetype": "text/x-python",
   "name": "python",
   "nbconvert_exporter": "python",
   "pygments_lexer": "ipython3",
   "version": "3.8.13"
  },
  "vscode": {
   "interpreter": {
    "hash": "5e863cd3d5e94e176ccf70fe871ae0fdcacd7cfc7ab0165752eceadb4c2ed074"
   }
  }
 },
 "nbformat": 4,
 "nbformat_minor": 5
}
