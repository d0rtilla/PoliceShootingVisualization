{
 "cells": [
  {
   "cell_type": "markdown",
   "id": "0c56c822",
   "metadata": {},
   "source": [
    "# Police Shooting Deaths in the United States from Jan 2015 - Sep 2022\n",
    "\n",
    "## Group 6: Jacob Douthett, Sam Espe, Alan Jallah, Jae Neuharth\n",
    "\n",
    "### Part 1: Cleaning the Data"
   ]
  },
  {
   "cell_type": "code",
   "execution_count": null,
   "id": "1a3dc464",
   "metadata": {},
   "outputs": [],
   "source": [
    "import requests\n",
    "import pandas as pd\n",
    "import pymongo"
   ]
  },
  {
   "cell_type": "code",
   "execution_count": null,
   "id": "e036f03a",
   "metadata": {},
   "outputs": [],
   "source": [
    "conn = \"mongodb://localhost:27017\"\n",
    "client = pymongo.MongoClient(conn)"
   ]
  },
  {
   "cell_type": "code",
   "execution_count": null,
   "id": "ed8a2bcd",
   "metadata": {},
   "outputs": [],
   "source": [
    "db = client.USPoliceShootingData\n",
    "collection = db.PoliceShootingData"
   ]
  },
  {
   "cell_type": "code",
   "execution_count": null,
   "id": "ff2d8b94",
   "metadata": {},
   "outputs": [],
   "source": [
    "datapath = 'data/USPoliceShootings15-22.csv'\n",
    "\n",
    "shooting_data = pd.read_csv(datapath)\n",
    "shooting_data"
   ]
  },
  {
   "cell_type": "code",
   "execution_count": null,
   "id": "4fd32648",
   "metadata": {},
   "outputs": [],
   "source": [
    "cleaneddata = shooting_data.drop(['signs_of_mental_illness', 'threat_level', 'manner_of_death', 'id'], axis=1)\n",
    "cleaneddata.head()"
   ]
  },
  {
   "cell_type": "code",
   "execution_count": null,
   "id": "2fa62fb8",
   "metadata": {},
   "outputs": [],
   "source": [
    "cleaneddata.dropna()\n",
    "cleaneddata"
   ]
  },
  {
   "cell_type": "code",
   "execution_count": null,
   "id": "43a2a190",
   "metadata": {},
   "outputs": [],
   "source": [
    "nulldropped = cleaneddata.dropna()\n",
    "nulldropped"
   ]
  },
  {
   "cell_type": "code",
   "execution_count": null,
   "id": "1650586a",
   "metadata": {},
   "outputs": [],
   "source": [
    "collection.insert_many(nulldropped.to_dict('records'))"
   ]
  },
  {
   "cell_type": "markdown",
   "id": "62c2e9d9",
   "metadata": {},
   "source": [
    "### Part 2: Extracting Latitudes and Longitudes for the Map"
   ]
  },
  {
   "cell_type": "code",
   "execution_count": null,
   "id": "b6ebd7ae",
   "metadata": {},
   "outputs": [],
   "source": [
    "# Making a copy of the cleaned dataframe\n",
    "for_geojson = nulldropped.copy()"
   ]
  },
  {
   "cell_type": "code",
   "execution_count": null,
   "id": "65e94083",
   "metadata": {},
   "outputs": [],
   "source": [
    "# Renaming the column titles\n",
    "renamed_for_geojson = for_geojson.rename(columns = {\"name\": \"Name\", \"date\": \"Date\", \"armed\":\"Was_Holding\", \"age\":\"Age\", \"gender\":\"Gender\", \"race\":\"Race\", \"city\":\"City\", \"state\":\"State\", \"flee\":\"Was_Fleeing?\", \"body_camera\":\"Body_Camera_Present?\"})"
   ]
  },
  {
   "cell_type": "code",
   "execution_count": null,
   "id": "d51b9aeb",
   "metadata": {},
   "outputs": [],
   "source": [
    "# Filter data for where geocoding_is_exact = True\n",
    "\n",
    "geocoding_exact = renamed_for_geojson[renamed_for_geojson[\"is_geocoding_exact\"] == True]\n",
    "\n",
    "geocoding_exact"
   ]
  },
  {
   "cell_type": "code",
   "execution_count": null,
   "id": "55de7648",
   "metadata": {},
   "outputs": [],
   "source": [
    "# Drop is_geocoding_exact column\n",
    "\n",
    "geocoding_exact.drop(labels = \"is_geocoding_exact\", axis=1, inplace=True)\n",
    "\n",
    "geocoding_exact"
   ]
  },
  {
   "cell_type": "code",
   "execution_count": null,
   "id": "0a773b19",
   "metadata": {},
   "outputs": [],
   "source": [
    "# Export as CSV\n",
    "\n",
    "geocoding_exact.to_csv(\"data/USPoliceShootingsCLEAN.csv\", index = False)"
   ]
  },
  {
   "cell_type": "markdown",
   "id": "3fdd17f1",
   "metadata": {},
   "source": [
    "We used https://www.convertcsv.com/csv-to-geojson.htm to convert our data from a CSV to a geoJSON format. The geoJSON file is located in the `data` folder with the raw CSV and the cleaned CSV."
   ]
  },
  {
   "cell_type": "code",
   "execution_count": null,
   "id": "34630728",
   "metadata": {},
   "outputs": [],
   "source": []
  }
 ],
 "metadata": {
  "kernelspec": {
   "display_name": "Python 3.9.12 ('base')",
   "language": "python",
   "name": "python3"
  },
  "language_info": {
   "codemirror_mode": {
    "name": "ipython",
    "version": 3
   },
   "file_extension": ".py",
   "mimetype": "text/x-python",
   "name": "python",
   "nbconvert_exporter": "python",
   "pygments_lexer": "ipython3",
   "version": "3.9.12"
  },
  "vscode": {
   "interpreter": {
    "hash": "5e863cd3d5e94e176ccf70fe871ae0fdcacd7cfc7ab0165752eceadb4c2ed074"
   }
  }
 },
 "nbformat": 4,
 "nbformat_minor": 5
}
